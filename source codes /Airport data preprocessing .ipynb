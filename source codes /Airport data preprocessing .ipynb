{
 "cells": [
  {
   "cell_type": "code",
   "execution_count": 8,
   "metadata": {},
   "outputs": [],
   "source": [
    "import pandas as pd \n",
    "import numpy as np "
   ]
  },
  {
   "cell_type": "code",
   "execution_count": 12,
   "metadata": {},
   "outputs": [
    {
     "data": {
      "text/html": [
       "<div>\n",
       "<style scoped>\n",
       "    .dataframe tbody tr th:only-of-type {\n",
       "        vertical-align: middle;\n",
       "    }\n",
       "\n",
       "    .dataframe tbody tr th {\n",
       "        vertical-align: top;\n",
       "    }\n",
       "\n",
       "    .dataframe thead th {\n",
       "        text-align: right;\n",
       "    }\n",
       "</style>\n",
       "<table border=\"1\" class=\"dataframe\">\n",
       "  <thead>\n",
       "    <tr style=\"text-align: right;\">\n",
       "      <th></th>\n",
       "      <th>Airport ID</th>\n",
       "      <th>Name</th>\n",
       "      <th>City</th>\n",
       "      <th>Country</th>\n",
       "      <th>IATA</th>\n",
       "      <th>ICAO</th>\n",
       "      <th>latitude</th>\n",
       "      <th>longitude</th>\n",
       "      <th>Altitude</th>\n",
       "      <th>Time zone</th>\n",
       "      <th>DST</th>\n",
       "      <th>Tz</th>\n",
       "      <th>Type</th>\n",
       "      <th>Source</th>\n",
       "    </tr>\n",
       "  </thead>\n",
       "  <tbody>\n",
       "    <tr>\n",
       "      <th>0</th>\n",
       "      <td>1</td>\n",
       "      <td>Goroka Airport</td>\n",
       "      <td>Goroka</td>\n",
       "      <td>Papua New Guinea</td>\n",
       "      <td>GKA</td>\n",
       "      <td>AYGA</td>\n",
       "      <td>-6.081690</td>\n",
       "      <td>145.391998</td>\n",
       "      <td>5282</td>\n",
       "      <td>10</td>\n",
       "      <td>U</td>\n",
       "      <td>Pacific/Port_Moresby</td>\n",
       "      <td>airport</td>\n",
       "      <td>OurAirports</td>\n",
       "    </tr>\n",
       "    <tr>\n",
       "      <th>1</th>\n",
       "      <td>2</td>\n",
       "      <td>Madang Airport</td>\n",
       "      <td>Madang</td>\n",
       "      <td>Papua New Guinea</td>\n",
       "      <td>MAG</td>\n",
       "      <td>AYMD</td>\n",
       "      <td>-5.207080</td>\n",
       "      <td>145.789001</td>\n",
       "      <td>20</td>\n",
       "      <td>10</td>\n",
       "      <td>U</td>\n",
       "      <td>Pacific/Port_Moresby</td>\n",
       "      <td>airport</td>\n",
       "      <td>OurAirports</td>\n",
       "    </tr>\n",
       "    <tr>\n",
       "      <th>2</th>\n",
       "      <td>3</td>\n",
       "      <td>Mount Hagen Kagamuga Airport</td>\n",
       "      <td>Mount Hagen</td>\n",
       "      <td>Papua New Guinea</td>\n",
       "      <td>HGU</td>\n",
       "      <td>AYMH</td>\n",
       "      <td>-5.826790</td>\n",
       "      <td>144.296005</td>\n",
       "      <td>5388</td>\n",
       "      <td>10</td>\n",
       "      <td>U</td>\n",
       "      <td>Pacific/Port_Moresby</td>\n",
       "      <td>airport</td>\n",
       "      <td>OurAirports</td>\n",
       "    </tr>\n",
       "    <tr>\n",
       "      <th>3</th>\n",
       "      <td>4</td>\n",
       "      <td>Nadzab Airport</td>\n",
       "      <td>Nadzab</td>\n",
       "      <td>Papua New Guinea</td>\n",
       "      <td>LAE</td>\n",
       "      <td>AYNZ</td>\n",
       "      <td>-6.569803</td>\n",
       "      <td>146.725977</td>\n",
       "      <td>239</td>\n",
       "      <td>10</td>\n",
       "      <td>U</td>\n",
       "      <td>Pacific/Port_Moresby</td>\n",
       "      <td>airport</td>\n",
       "      <td>OurAirports</td>\n",
       "    </tr>\n",
       "    <tr>\n",
       "      <th>4</th>\n",
       "      <td>5</td>\n",
       "      <td>Port Moresby Jacksons International Airport</td>\n",
       "      <td>Port Moresby</td>\n",
       "      <td>Papua New Guinea</td>\n",
       "      <td>POM</td>\n",
       "      <td>AYPY</td>\n",
       "      <td>-9.443380</td>\n",
       "      <td>147.220001</td>\n",
       "      <td>146</td>\n",
       "      <td>10</td>\n",
       "      <td>U</td>\n",
       "      <td>Pacific/Port_Moresby</td>\n",
       "      <td>airport</td>\n",
       "      <td>OurAirports</td>\n",
       "    </tr>\n",
       "  </tbody>\n",
       "</table>\n",
       "</div>"
      ],
      "text/plain": [
       "   Airport ID                                         Name          City  \\\n",
       "0           1                               Goroka Airport        Goroka   \n",
       "1           2                               Madang Airport        Madang   \n",
       "2           3                 Mount Hagen Kagamuga Airport   Mount Hagen   \n",
       "3           4                               Nadzab Airport        Nadzab   \n",
       "4           5  Port Moresby Jacksons International Airport  Port Moresby   \n",
       "\n",
       "            Country IATA  ICAO  latitude   longitude  Altitude Time zone DST  \\\n",
       "0  Papua New Guinea  GKA  AYGA -6.081690  145.391998      5282        10   U   \n",
       "1  Papua New Guinea  MAG  AYMD -5.207080  145.789001        20        10   U   \n",
       "2  Papua New Guinea  HGU  AYMH -5.826790  144.296005      5388        10   U   \n",
       "3  Papua New Guinea  LAE  AYNZ -6.569803  146.725977       239        10   U   \n",
       "4  Papua New Guinea  POM  AYPY -9.443380  147.220001       146        10   U   \n",
       "\n",
       "                     Tz     Type       Source  \n",
       "0  Pacific/Port_Moresby  airport  OurAirports  \n",
       "1  Pacific/Port_Moresby  airport  OurAirports  \n",
       "2  Pacific/Port_Moresby  airport  OurAirports  \n",
       "3  Pacific/Port_Moresby  airport  OurAirports  \n",
       "4  Pacific/Port_Moresby  airport  OurAirports  "
      ]
     },
     "execution_count": 12,
     "metadata": {},
     "output_type": "execute_result"
    }
   ],
   "source": [
    "#Download the data from https://openflights.org/data.html \n",
    "#Assign column names \n",
    "\n",
    "cols = ['Airport ID','Name','City','Country','IATA','ICAO','latitude','longitude','Altitude','Time zone','DST','Tz','Type','Source']\n",
    "df_airports = pd.read_csv('https://raw.githubusercontent.com/jpatokal/openflights/master/data/airports-extended.dat', names = cols)\n",
    "df_airports.head()"
   ]
  },
  {
   "cell_type": "code",
   "execution_count": 13,
   "metadata": {},
   "outputs": [
    {
     "data": {
      "text/html": [
       "<div>\n",
       "<style scoped>\n",
       "    .dataframe tbody tr th:only-of-type {\n",
       "        vertical-align: middle;\n",
       "    }\n",
       "\n",
       "    .dataframe tbody tr th {\n",
       "        vertical-align: top;\n",
       "    }\n",
       "\n",
       "    .dataframe thead th {\n",
       "        text-align: right;\n",
       "    }\n",
       "</style>\n",
       "<table border=\"1\" class=\"dataframe\">\n",
       "  <thead>\n",
       "    <tr style=\"text-align: right;\">\n",
       "      <th></th>\n",
       "      <th>Airport ID</th>\n",
       "      <th>latitude</th>\n",
       "      <th>longitude</th>\n",
       "      <th>Altitude</th>\n",
       "    </tr>\n",
       "  </thead>\n",
       "  <tbody>\n",
       "    <tr>\n",
       "      <th>count</th>\n",
       "      <td>12304.000000</td>\n",
       "      <td>12304.000000</td>\n",
       "      <td>12304.000000</td>\n",
       "      <td>12304.000000</td>\n",
       "    </tr>\n",
       "    <tr>\n",
       "      <th>mean</th>\n",
       "      <td>7115.829080</td>\n",
       "      <td>29.496906</td>\n",
       "      <td>-1.345041</td>\n",
       "      <td>842.881014</td>\n",
       "    </tr>\n",
       "    <tr>\n",
       "      <th>std</th>\n",
       "      <td>4104.831536</td>\n",
       "      <td>27.034483</td>\n",
       "      <td>84.307282</td>\n",
       "      <td>1515.654183</td>\n",
       "    </tr>\n",
       "    <tr>\n",
       "      <th>min</th>\n",
       "      <td>1.000000</td>\n",
       "      <td>-90.000000</td>\n",
       "      <td>-179.876999</td>\n",
       "      <td>-1266.000000</td>\n",
       "    </tr>\n",
       "    <tr>\n",
       "      <th>25%</th>\n",
       "      <td>3250.750000</td>\n",
       "      <td>15.008950</td>\n",
       "      <td>-77.753824</td>\n",
       "      <td>39.000000</td>\n",
       "    </tr>\n",
       "    <tr>\n",
       "      <th>50%</th>\n",
       "      <td>7585.500000</td>\n",
       "      <td>37.956838</td>\n",
       "      <td>6.951535</td>\n",
       "      <td>237.000000</td>\n",
       "    </tr>\n",
       "    <tr>\n",
       "      <th>75%</th>\n",
       "      <td>10670.250000</td>\n",
       "      <td>49.038542</td>\n",
       "      <td>48.871963</td>\n",
       "      <td>900.000000</td>\n",
       "    </tr>\n",
       "    <tr>\n",
       "      <th>max</th>\n",
       "      <td>13746.000000</td>\n",
       "      <td>90.000000</td>\n",
       "      <td>179.951004</td>\n",
       "      <td>14472.000000</td>\n",
       "    </tr>\n",
       "  </tbody>\n",
       "</table>\n",
       "</div>"
      ],
      "text/plain": [
       "         Airport ID      latitude     longitude      Altitude\n",
       "count  12304.000000  12304.000000  12304.000000  12304.000000\n",
       "mean    7115.829080     29.496906     -1.345041    842.881014\n",
       "std     4104.831536     27.034483     84.307282   1515.654183\n",
       "min        1.000000    -90.000000   -179.876999  -1266.000000\n",
       "25%     3250.750000     15.008950    -77.753824     39.000000\n",
       "50%     7585.500000     37.956838      6.951535    237.000000\n",
       "75%    10670.250000     49.038542     48.871963    900.000000\n",
       "max    13746.000000     90.000000    179.951004  14472.000000"
      ]
     },
     "execution_count": 13,
     "metadata": {},
     "output_type": "execute_result"
    }
   ],
   "source": [
    "df_airports.describe()"
   ]
  },
  {
   "cell_type": "code",
   "execution_count": 14,
   "metadata": {},
   "outputs": [
    {
     "data": {
      "text/plain": [
       "Airport ID    12304\n",
       "Name          12304\n",
       "City          12256\n",
       "Country       12304\n",
       "IATA          12304\n",
       "ICAO          12303\n",
       "latitude      12304\n",
       "longitude     12304\n",
       "Altitude      12304\n",
       "Time zone     12304\n",
       "DST           12304\n",
       "Tz            12304\n",
       "Type          12304\n",
       "Source        12304\n",
       "dtype: int64"
      ]
     },
     "execution_count": 14,
     "metadata": {},
     "output_type": "execute_result"
    }
   ],
   "source": [
    "df_airports.count()"
   ]
  },
  {
   "cell_type": "code",
   "execution_count": 15,
   "metadata": {},
   "outputs": [
    {
     "data": {
      "text/plain": [
       "Airport ID    9513\n",
       "Name          9513\n",
       "City          9465\n",
       "Country       9513\n",
       "IATA          9513\n",
       "ICAO          9513\n",
       "latitude      9513\n",
       "longitude     9513\n",
       "Altitude      9513\n",
       "Time zone     9513\n",
       "DST           9513\n",
       "Tz            9513\n",
       "Type          9513\n",
       "Source        9513\n",
       "dtype: int64"
      ]
     },
     "execution_count": 15,
     "metadata": {},
     "output_type": "execute_result"
    }
   ],
   "source": [
    "#In this project i wil be focusing on airports only\n",
    "\n",
    "to_drop = ['port', 'unknown', 'station']\n",
    "df_airports1= df_airports[~df_airports['Type'].isin(to_drop)]\n",
    "df_airports1.head()\n",
    "df_airports1.count()"
   ]
  },
  {
   "cell_type": "code",
   "execution_count": 16,
   "metadata": {},
   "outputs": [
    {
     "data": {
      "text/plain": [
       "Airport ID     0\n",
       "Name           0\n",
       "City          48\n",
       "Country        0\n",
       "IATA           0\n",
       "ICAO           0\n",
       "latitude       0\n",
       "longitude      0\n",
       "Altitude       0\n",
       "Time zone      0\n",
       "DST            0\n",
       "Tz             0\n",
       "Type           0\n",
       "Source         0\n",
       "dtype: int64"
      ]
     },
     "execution_count": 16,
     "metadata": {},
     "output_type": "execute_result"
    }
   ],
   "source": [
    "df_airports1.isnull().sum()"
   ]
  },
  {
   "cell_type": "code",
   "execution_count": 17,
   "metadata": {},
   "outputs": [
    {
     "data": {
      "text/plain": [
       "0        False\n",
       "1        False\n",
       "2        False\n",
       "3        False\n",
       "4        False\n",
       "5        False\n",
       "6        False\n",
       "7        False\n",
       "8        False\n",
       "9        False\n",
       "10       False\n",
       "11       False\n",
       "12       False\n",
       "13       False\n",
       "14       False\n",
       "15       False\n",
       "16       False\n",
       "17       False\n",
       "18       False\n",
       "19       False\n",
       "20       False\n",
       "21       False\n",
       "22       False\n",
       "23       False\n",
       "24       False\n",
       "25       False\n",
       "26       False\n",
       "27       False\n",
       "28       False\n",
       "29       False\n",
       "         ...  \n",
       "12274    False\n",
       "12275    False\n",
       "12276    False\n",
       "12277    False\n",
       "12278     True\n",
       "12279    False\n",
       "12280    False\n",
       "12281    False\n",
       "12282    False\n",
       "12283    False\n",
       "12284    False\n",
       "12285    False\n",
       "12286    False\n",
       "12287    False\n",
       "12288    False\n",
       "12289    False\n",
       "12290    False\n",
       "12291    False\n",
       "12292    False\n",
       "12293    False\n",
       "12294    False\n",
       "12295    False\n",
       "12296    False\n",
       "12297    False\n",
       "12298    False\n",
       "12299    False\n",
       "12300    False\n",
       "12301    False\n",
       "12302    False\n",
       "12303    False\n",
       "Name: City, Length: 9513, dtype: bool"
      ]
     },
     "execution_count": 17,
     "metadata": {},
     "output_type": "execute_result"
    }
   ],
   "source": [
    "#Checking null values \n",
    "df_airports1['City'].isnull()"
   ]
  },
  {
   "cell_type": "code",
   "execution_count": 18,
   "metadata": {},
   "outputs": [
    {
     "data": {
      "text/plain": [
       "0                    Goroka\n",
       "1                    Madang\n",
       "2               Mount Hagen\n",
       "3                    Nadzab\n",
       "4              Port Moresby\n",
       "5                     Wewak\n",
       "6              Narssarssuaq\n",
       "7                  Godthaab\n",
       "8               Sondrestrom\n",
       "9                     Thule\n",
       "10                 Akureyri\n",
       "11              Egilsstadir\n",
       "12                     Hofn\n",
       "13                  Husavik\n",
       "14               Isafjordur\n",
       "15                 Keflavik\n",
       "16           Patreksfjordur\n",
       "17                Reykjavik\n",
       "18             Siglufjordur\n",
       "19           Vestmannaeyjar\n",
       "20       Sault Sainte Marie\n",
       "21                 Winnipeg\n",
       "22                  Halifax\n",
       "23              St. Anthony\n",
       "24                   Tofino\n",
       "25                Pelly Bay\n",
       "26              Baie Comeau\n",
       "27               Bagotville\n",
       "28               Baker Lake\n",
       "29           Campbell River\n",
       "                ...        \n",
       "12274             Oceanside\n",
       "12275        Castelo Branco\n",
       "12276          Ponte de Sôr\n",
       "12277                  Maia\n",
       "12278                   NaN\n",
       "12279             Kenebetsu\n",
       "12280                 Natal\n",
       "12281                 Ajmer\n",
       "12282                Kannur\n",
       "12283               Beijing\n",
       "12284                Selous\n",
       "12285              Chisinau\n",
       "12286         Jericoacoara \n",
       "12287                  Baku\n",
       "12288                 Ureki\n",
       "12289             North Sea\n",
       "12290              Coalinga\n",
       "12291         Rostov-on-Don\n",
       "12292                MANAUS\n",
       "12293               Lanzhou\n",
       "12294              Dunhuang\n",
       "12295             Jiayuguan\n",
       "12296                Harbin\n",
       "12297             Manzhouli\n",
       "12298                Hailar\n",
       "12299               Kunming\n",
       "12300                  Dali\n",
       "12301               Lijiang\n",
       "12302      Benguerra Island\n",
       "12303              Bazaruto\n",
       "Name: City, Length: 9513, dtype: object"
      ]
     },
     "execution_count": 18,
     "metadata": {},
     "output_type": "execute_result"
    }
   ],
   "source": [
    "df_airports1['City'].replace(' ', np.nan)"
   ]
  },
  {
   "cell_type": "code",
   "execution_count": 19,
   "metadata": {},
   "outputs": [
    {
     "data": {
      "text/plain": [
       "48"
      ]
     },
     "execution_count": 19,
     "metadata": {},
     "output_type": "execute_result"
    }
   ],
   "source": [
    "df_airports1['City'].isnull().sum()"
   ]
  },
  {
   "cell_type": "code",
   "execution_count": 20,
   "metadata": {},
   "outputs": [
    {
     "data": {
      "text/plain": [
       "Airport ID      int64\n",
       "Name           object\n",
       "City           object\n",
       "Country        object\n",
       "IATA           object\n",
       "ICAO           object\n",
       "latitude      float64\n",
       "longitude     float64\n",
       "Altitude        int64\n",
       "Time zone      object\n",
       "DST            object\n",
       "Tz             object\n",
       "Type           object\n",
       "Source         object\n",
       "dtype: object"
      ]
     },
     "execution_count": 20,
     "metadata": {},
     "output_type": "execute_result"
    }
   ],
   "source": [
    "#Checking Columns datatypes, looks fine.\n",
    "df_airports1.dtypes"
   ]
  },
  {
   "cell_type": "code",
   "execution_count": 21,
   "metadata": {},
   "outputs": [],
   "source": [
    "#exporting Airports Data After Cleaning \n",
    "\n",
    "df_airports1.to_csv('/Users/noraamri/Documents/mastars  2nd semester /visualisation /Project /data/airports_cleaned.csv')"
   ]
  },
  {
   "cell_type": "code",
   "execution_count": 22,
   "metadata": {},
   "outputs": [
    {
     "data": {
      "text/html": [
       "<div>\n",
       "<style scoped>\n",
       "    .dataframe tbody tr th:only-of-type {\n",
       "        vertical-align: middle;\n",
       "    }\n",
       "\n",
       "    .dataframe tbody tr th {\n",
       "        vertical-align: top;\n",
       "    }\n",
       "\n",
       "    .dataframe thead th {\n",
       "        text-align: right;\n",
       "    }\n",
       "</style>\n",
       "<table border=\"1\" class=\"dataframe\">\n",
       "  <thead>\n",
       "    <tr style=\"text-align: right;\">\n",
       "      <th></th>\n",
       "      <th>Airports number</th>\n",
       "    </tr>\n",
       "    <tr>\n",
       "      <th>Country</th>\n",
       "      <th></th>\n",
       "    </tr>\n",
       "  </thead>\n",
       "  <tbody>\n",
       "    <tr>\n",
       "      <th>Afghanistan</th>\n",
       "      <td>21</td>\n",
       "    </tr>\n",
       "    <tr>\n",
       "      <th>Albania</th>\n",
       "      <td>5</td>\n",
       "    </tr>\n",
       "    <tr>\n",
       "      <th>Algeria</th>\n",
       "      <td>45</td>\n",
       "    </tr>\n",
       "    <tr>\n",
       "      <th>American Samoa</th>\n",
       "      <td>4</td>\n",
       "    </tr>\n",
       "    <tr>\n",
       "      <th>Angola</th>\n",
       "      <td>26</td>\n",
       "    </tr>\n",
       "  </tbody>\n",
       "</table>\n",
       "</div>"
      ],
      "text/plain": [
       "                Airports number\n",
       "Country                        \n",
       "Afghanistan                  21\n",
       "Albania                       5\n",
       "Algeria                      45\n",
       "American Samoa                4\n",
       "Angola                       26"
      ]
     },
     "execution_count": 22,
     "metadata": {},
     "output_type": "execute_result"
    }
   ],
   "source": [
    "#Creating a new dataset of countrys and airport numbers, derived from the original dataset \n",
    "country_airports_num= df_airports1.groupby('Country').count()[['Airport ID']]\n",
    "country_airports_num.head()\n",
    "\n",
    "#Renaming a column\n",
    "\n",
    "country_airports_num.columns = country_airports_num.columns.str.replace(\"Airport ID\",\"Airports number\")\n",
    "country_airports_num.columns = country_airports_num.columns.str.replace(\"Country\",\"Country1\")\n",
    "country_airports_num.to_csv('/Users/noraamri/Documents/mastars  2nd semester /visualisation /Project /data/airports_num.csv')\n",
    "country_airports_num.head()"
   ]
  },
  {
   "cell_type": "code",
   "execution_count": 23,
   "metadata": {},
   "outputs": [
    {
     "data": {
      "text/plain": [
       "(237, 1)"
      ]
     },
     "execution_count": 23,
     "metadata": {},
     "output_type": "execute_result"
    }
   ],
   "source": [
    "country_airports_num.shape"
   ]
  }
 ],
 "metadata": {
  "kernelspec": {
   "display_name": "Python 3",
   "language": "python",
   "name": "python3"
  },
  "language_info": {
   "codemirror_mode": {
    "name": "ipython",
    "version": 3
   },
   "file_extension": ".py",
   "mimetype": "text/x-python",
   "name": "python",
   "nbconvert_exporter": "python",
   "pygments_lexer": "ipython3",
   "version": "3.7.1"
  }
 },
 "nbformat": 4,
 "nbformat_minor": 2
}
